{
  "cells": [
    {
      "cell_type": "code",
      "execution_count": 2,
      "metadata": {
        "id": "gQa2FLCIEMtq"
      },
      "outputs": [],
      "source": [
        "import pandas as pd\n",
        "import numpy as np\n",
        "import requests\n",
        "from bs4 import BeautifulSoup\n",
        "from lxml import etree"
      ]
    },
    {
      "cell_type": "code",
      "execution_count": 4,
      "metadata": {
        "colab": {
          "base_uri": "https://localhost:8080/"
        },
        "id": "70uAvG6tEjjS",
        "outputId": "b33f58ce-8988-4132-8f4f-73b9cc40ef84"
      },
      "outputs": [
        {
          "output_type": "stream",
          "name": "stdout",
          "text": [
            "200\n"
          ]
        }
      ],
      "source": [
        "url = requests.get('https://webscraper.io/test-sites/e-commerce/allinone/computers/laptops')\n",
        "print(url.status_code)"
      ]
    },
    {
      "cell_type": "code",
      "execution_count": 6,
      "metadata": {
        "id": "nI46JrWJF8Cr"
      },
      "outputs": [],
      "source": [
        "soup = BeautifulSoup(url.content,'html.parser')\n"
      ]
    },
    {
      "cell_type": "code",
      "execution_count": 7,
      "metadata": {
        "colab": {
          "base_uri": "https://localhost:8080/"
        },
        "id": "GqlFVlk0GEoO",
        "outputId": "4b5b7ef7-1a7a-4ee5-93f6-23c3bf54b1b9"
      },
      "outputs": [
        {
          "output_type": "stream",
          "name": "stdout",
          "text": [
            "['Asus VivoBook X4...', 'Prestigio SmartB...', 'Prestigio SmartB...', 'Aspire E1-510', 'Lenovo V110-15IA...', 'Lenovo V110-15IA...', 'Hewlett Packard...', 'Acer Aspire 3 A3...', 'Acer Aspire A315...', 'Acer Aspire ES1-...', 'Acer Aspire 3 A3...', 'Acer Aspire 3 A3...', 'Asus VivoBook Ma...', 'Asus VivoBook E5...', 'Lenovo ThinkPad...', 'Acer Aspire 3 A3...', 'Lenovo V110-15IS...', 'Acer Aspire ES1-...', 'Asus VivoBook 15...', 'Packard 255 G2', 'Asus EeeBook R41...', 'Acer Aspire 3 A3...', 'Acer Aspire ES1-...', 'Acer Extensa 15...', 'Acer Aspire ES1-...', 'Lenovo V110-15IS...', 'Acer Aspire A315...', 'Lenovo V110-15IK...', 'Asus VivoBook 15...', 'Acer Aspire ES1-...', 'Lenovo V510 Blac...', 'Acer Aspire ES1-...', 'Lenovo V510 Blac...', 'Acer Swift 1 SF1...', 'Dell Vostro 15', 'Acer Aspire 3 A3...', 'Dell Vostro 15 (...', 'Lenovo V510 Blac...', 'HP 250 G3', 'Acer Spin 5', 'HP 350 G1', 'Aspire E1-572G', 'Pavilion', 'Acer Aspire A515...', 'Dell Inspiron 15', 'Asus VivoBook S1...', 'ProBook', 'Inspiron 15', 'Asus ROG STRIX G...', 'Acer Nitro 5 AN5...', 'Asus ROG STRIX G...', 'Lenovo ThinkPad...', 'ThinkPad Yoga', 'Lenovo ThinkPad...', 'Dell Inspiron 15...', 'MSI GL72M 7RDX', 'MSI GL72M 7RDX', 'Asus ROG Strix G...', 'Dell Latitude 52...', 'Dell Latitude 54...', 'Lenovo Legion Y5...', 'Toshiba Portege...', 'Acer Predator He...', 'Acer Aspire 7 A7...', 'Dell Inspiron 17...', 'Dell Latitude 54...', 'Lenovo Legion Y5...', 'Asus AsusPro Adv...', 'Acer Nitro 5 AN5...', 'Dell Latitude 54...', 'Dell Inspiron 15...', 'Dell Latitude 55...', 'Lenovo Legion Y5...', 'MSI GP62M 7RDX L...', 'Lenovo Yoga 720...', 'Toshiba Portege...', 'Acer TravelMate...', 'Dell Latitude 55...', 'ThinkPad T540p', 'MSI GS63 7RD Ste...', 'Dell Latitude 54...', 'Acer Predator He...', 'MSI GL62M 7REX', 'MSI GL62M 7REX2', 'Lenovo Yoga 910...', 'Toshiba Portege...', 'Lenovo IdeaPad M...', 'Acer Predator He...', 'ThinkPad Yoga', 'Asus VivoBook Pr...', 'Dell Latitude 54...', 'Asus ZenBook UX5...', 'ThinkPad X230', 'Asus ROG Strix G...', 'Apple MacBook Ai...', 'Dell Latitude 54...', 'Hewlett Packard...', 'Dell XPS 13', 'Toshiba Portege...', 'MSI GL62VR 7RFX', 'Dell Latitude 54...', 'ThinkPad X240', 'Hewlett Packard...', 'Apple MacBook Pr...', 'Dell Latitude 55...', 'Dell Latitude 54...', 'Dell Latitude 55...', 'Apple MacBook Ai...', 'Lenovo ThinkPad...', 'Lenovo ThinkPad...', 'Toshiba Portege...', 'Asus ASUSPRO B94...', 'Lenovo Legion Y7...', 'Asus ROG Strix G...', 'Asus ROG Strix G...', 'Asus ROG Strix G...', 'Asus ROG Strix S...']\n",
            "117\n"
          ]
        }
      ],
      "source": [
        "titulos = soup.find_all('a', attrs={'class':'title'})\n",
        "\n",
        "titulos = [i.text for i in titulos]\n",
        "print(titulos)\n",
        "print(len(titulos))"
      ]
    },
    {
      "cell_type": "code",
      "execution_count": 8,
      "metadata": {
        "colab": {
          "base_uri": "https://localhost:8080/"
        },
        "id": "YFsb7awdG-nX",
        "outputId": "629d44e8-b041-4cc4-bff0-4f45604908cc"
      },
      "outputs": [
        {
          "output_type": "stream",
          "name": "stdout",
          "text": [
            "['Asus VivoBook X441NA-GA190 Chocolate Black, 14\", Celeron N3450, 4GB, 128GB SSD, Endless OS, ENG kbd', 'Prestigio SmartBook 133S Dark Grey, 13.3\" FHD IPS, Celeron N3350 1.1GHz, 4GB, 32GB, Windows 10 Pro + Office 365 1 gadam', 'Prestigio SmartBook 133S Gold, 13.3\" FHD IPS, Celeron N3350 1.1GHz, 4GB, 32GB, Windows 10 Pro + Office 365 1 gadam', '15.6\", Pentium N3520 2.16GHz, 4GB, 500GB, Linux', 'Lenovo V110-15IAP, 15.6\" HD, Celeron N3350 1.1GHz, 4GB, 128GB SSD, Windows 10 Home', 'Asus VivoBook 15 X540NA-GQ008T Chocolate Black, 15.6\" HD, Pentium N4200, 4GB, 500GB, Windows 10 Home, En kbd', 'Hewlett Packard 250 G6 Dark Ash Silver, 15.6\" HD, Celeron N3060 1.6GHz, 4GB, 128GB SSD, DOS', 'Acer Aspire 3 A315-31 Black, 15.6\" HD, Celeron N3350 1.1GHz, 4GB, 128GB SSD, Windows 10 Home', 'Acer Aspire A315-31-C33J Black 15.6\", HD, Celeron N3350, 4GB DDR3L, 128GB, Windows 10 Home, ENG', 'Acer Aspire ES1-572 Black, 15.6\" HD, Core i3-6006U, 4GB, 128GB SSD, Linux', 'Acer Aspire 3 A315-31 Black, 15.6\" HD, Pentium N4200 1.1GHz, 4GB, 128GB SSD, Windows 10 Home', 'Acer Aspire 3 A315-21, 15.6\", AMD A4-9120. 4GB. 128GB SSD, Linux', 'Asus VivoBook Max X541NA-GQ041 Black Chocolate, 15.6\" HD, Pentium N4200 1.1GHz, 4GB, 500GB, Windows 10 Home', 'Asus VivoBook E502NA-GO022T Dark Blue, 15.6\" HD, Pentium N4200 1.1GHz, 4GB, 128GB SSD, Windows 10 Home, En/Ru kbd', 'Lenovo ThinkPad E31-80, 13.3\" HD, Celeron 3855U 1.6GHz, 4GB, 128GB SSD, Windows 10 Home', 'Acer Aspire 3 A315-31 Black, 15.6\" HD, Pentium N4200 1.1GHz, 4GB, 128GB SSD, Windows 10 Home', 'Lenovo V110-15ISK, 15.6\" HD, Core i3-6006U, 8GB, 128GB SSD, Windows 10 Home', 'Acer Aspire ES1-732 Black, 17.3\" HD+, Celeron, N3350, 4GB, 1TB, Windows 10 Home', 'Asus VivoBook 15 X540NA-GQ026T Chocolate Black, 15.6\" HD, Pentium N4200, 4GB, 128GB SSD, Windows 10 Home, En/Ru kbd', '15.6\", AMD E2-3800 1.3GHz, 4GB, 500GB, Windows 8.1', 'Asus EeeBook R416NA-FA014T, 14\" FHD, Pentium N4200, 4GB, 128GB eMMC, Windows 10 Home, Eng kbd', 'Acer Aspire 3 A315-51, 15.6\" HD, Core i3-6006U, 4GB, 1TB, Windows 10 Home', 'Acer Aspire ES1-572 Black, 15.6\" HD, Core i3-6006U, 4GB, 500GB, Windows 10 Home', 'Acer Extensa 15 (2540) Black, 15.6\" HD, Core i5-7200U, 4GB, 500GB, Linux', 'Acer Aspire ES1-572 Black, 15.6\" HD, Core i5-7200U, 4GB, 500GB, Linux', 'Lenovo V110-15ISK, 15.6\" HD, Core i3-6006U, 4GB, 128GB SSD, Windows 10 Pro', 'Acer Aspire A315-51-33TG, Black 15.6\" HD, Core i3-7100U, 4GB DDR4, 128GB SSD, Windows 10 Home, ENG', 'Lenovo V110-15IKB, 15.6\" HD, Core i5-7200U, 4GB, 500GB, DOS', 'Asus VivoBook 15 X540UA-DM260 Chocolate Black, 15.6\" FHD, Core i3-6006U, 4GB, 256GB SSD, Endless OS, En kbd', 'Acer Aspire ES1-572 Black, 15.6\" HD, Core i3-6006U, 4GB, 128GB SSD, Windows 10 Home', 'Lenovo V510 Black, 14\" HD, Core i3-6006U, 4GB, 128GB SSD, Windows 10 Home', 'Acer Aspire ES1-572 Black, 15.6\" HD, Core i5-7200U, 4GB, 128GB SSD, Linux', 'Lenovo V510 Black, 15.6\" HD, Core i3-6006U, 4GB, 128GB SSD, Windows 10 Home', 'Acer Swift 1 SF113-31 Silver, 13.3\" FHD, Pentium N4200, 4GB, 128GB SSD, Windows 10 Home', 'Dell Vostro 15 (3568) Black, 15.6\" FHD, Core i5-7200U, 4GB, 128GB SSD, Radeon R5 M420 2GB, Linux', 'Acer Aspire 3 A315-51 Black, 15.6\" FHD, Core i3-7100U, 4GB, 500GB + 128GB SSD, Windows 10 Home', 'Dell Vostro 15 (3568) Red, 15.6\" HD, Core i5-7200U, 4GB, 1TB, Radeon R5 M420 2GB, Linux', 'Lenovo V510 Black, 15.6\" FHD, Core i3-7100U, 4GB, 128GB SSD, Windows 10 Pro', '15.6\", Core\\xa0i5-4210U, 4GB, 500GB, Windows 8.1', 'Acer Spin 5 SP513-51 Black, 13.3\" FHD Touch, Core i3-7100U, 4GB, 128GB SSD, Windows 10 Home', '15.6\", Core i5-4200U, 4GB, 750GB, Radeon HD8670M 2GB, Windows', '15.6\", Core i5-4200U, 8GB, 1TB, Radeon R7 M265, Windows 8.1', '15.6\", Core i5-4200U, 6GB, 750GB, Windows 8.1', 'Acer Aspire A515-51-5654, Black, 15.6\", FHD, Core i5-8250U, 8GB DDR4, 256GB SSD, Windows 10 Home, ENG', 'Dell Inspiron 15 (5567) Fog Gray, 15.6\" FHD, Core i5-7200U, 8GB, 1TB, Radeon R7 M445 4GB, Linux', 'Asus VivoBook S14 (S406UA-BV041T) Starry Grey, 14\", Core i5-8250U, 8GB, 256GB SSD, Windows 10 Home, Eng kbd', '14\", Core i5 2.6GHz, 4GB, 500GB, Win7 Pro 64bit', 'Moon Silver, 15.6\", Core i7-4510U, 8GB, 1TB, Radeon HD R7 M265 2GB,', 'Asus ROG STRIX GL553VD-DM256, 15.6\" FHD, Core i5-7300HQ, 8GB, 1TB, GeForce GTX 1050 2GB, No OS', 'Acer Nitro 5 AN515-51, 15.6\" FHD IPS, Core i5-7300HQ, 8GB, 1TB, GeForce GTX 1050 2GB, Windows 10 Home', 'Asus ROG STRIX GL553VD-DM256, 15.6\" FHD, Core i5-7300HQ, 8GB, 1TB, GeForce GTX 1050 2GB, No OS + Windows 10 Home', 'Lenovo ThinkPad L570, 15.6\" FHD, Core i7-7500U, 8GB, 256GB SSD, Windows 10 Pro', '12.5\" Touch, Core i3-4010U, 4GB, 500GB + 16GB SSD Cache,', 'Lenovo ThinkPad L460, 14\" FHD IPS, Core i7-6600U, 8GB, 256GB SSD, Windows 10 Pro', 'Dell Inspiron 15 (7567) Black, 15.6\" FHD, Core i5-7300HQ, 8GB, 256GB SSD, GeForce GTX 1050 4GB, Windows 10 Home', 'MSI GL72M 7RDX, 17.3\" FHD, Core i5-7300HQ, 8GB, 1TB + 128GB SSD, GeForce GTX 1050 2GB, Windows 10 Home', 'Asus ROG Strix GL553VD-DM535T, 15.6\" FHD, Core i7-7700HQ, 8GB, 1TB + 128GB SSD, GeForce GTX 1050 2GB, Windows 10 Home, Eng kbd', 'Apple MacBook Air 13.3\", Core i5 1.8GHz, 8GB, 128GB SSD, Intel HD 4000, RUS', 'Dell Latitude 5280, 12.5\" HD, Core i5-7300U, 8GB, 256GB SSD, Windows 10 Pro', 'Dell Latitude 5480, 14\" FHD, Core i5-7300U, 8GB, 500GB, Linux + Windows 10 Home', 'Lenovo Legion Y520-15IKBM, Black, 15.6\" FHD IPS, Core i5-7300HQ, 8 GB, 128GB SSD + 2 TB HDD, NVIDIA GeForce GTX 1060 6 GB, FreeDOS + Windows 10 Home', 'Toshiba Portege Z30-C-16J Grey, 13.3\" FHD, Core i5-6200U, 8GB, 256GB SSD, Windows 10 Pro', 'Acer Predator Helios 300 (PH317-51), 17.3\" FHD IPS, Core i5-7300HQ, 8GB, 1TB + 128GB SSD, GeForce GTX 1050Ti 4GB, Windows 10 Home', 'Acer Aspire 7 A715-71G, 15.6\" FHD IPS, Core i7-7700HQ, 8GB, 128GB SSD + 1TB HDD, GTX 1050 Ti 4GB, Windows 10 Home', 'Dell Inspiron 17 2in1 (7779) Silver, 17.3\" FHD Touch, Core i5-7200U, 12GB, 1TB, GeForce GT940MX 2GB, Windows 10 Home', 'Dell Latitude 5480, 14\" FHD, Core i5-7300U, 8GB, 500GB, Windows 10 Pro', 'Lenovo Legion Y520, 15.6\" FHD, Core i7-7700HQ, 8GB, 128 GB SSD + 1TB HDD, GTX 1050 4GB, Windows 10 Home', 'Asus AsusPro Advanced BU401LA-FA271G Dark Grey, 14\", Core i5-4210U, 4GB, 128GB SSD, Win7 Pro 64bit, ENG', 'Acer Nitro 5 AN515-51, 15.6\" FHD IPS, Core i7-7700HQ, 8GB, 256GB SSD +1TB, GeForce GTX 1050 Ti 4GB, Windows 10 Home + Windows 10 Home', 'Dell Latitude 5480, 14\" FHD, Core i5-7440HQ, 8GB, 256GB SSD, Windows 10 Pro', 'Dell Inspiron 15 (7567) Black, 15.6\" FHD, Core i7-7700HQ, 8GB, 1TB, GeForce GTX 1050 Ti 4GB, Linux + Windows 10 Home', 'Dell Latitude 5580, 15.6\" FHD, Core i5-7300U, 8GB, 256GB SSD, Windows 10 Pro', 'Lenovo Legion Y520-15IKBM, 15.6\" FHD IPS, Core i7-7700HQ, 8GB, 128GB SSD + 1TB, GeForce GTX 1060 Max-Q 6GB, DOS', 'MSI GP62M 7RDX Leopard, 15.6\" FHD, Core i7-7700HQ, 8GB, 1TB + 128GB SSD, GeForce GTX 1050 2GB, Windows 10 Home', 'Lenovo Yoga 720 Grey, 15.6\" FHD IPS, Core i5-7300HQ, 8GB, 256GB SSD, GeForce GTX 1050 2GB, Windows 10 Home', 'Toshiba Portege Z30-C-16L Grey, 13.3\" FHD, Core i7-6500U, 8GB, 256GB SSD, Windows 10 Pro', 'Acer TravelMate P645-S-511A Black, 14\" FHD IPS, Core i5-5200U, 8GB, 256GB SSD, 3G, Windows 10 Pro', 'Dell Latitude 5580, 15.6\" FHD, Core i5-7300U, 16GB, 256GB SSD, Linux + Windows 10 Home', '15.6\", Core i5-4200M, 4GB, 500GB, Win7 Pro 64bit', 'MSI GS63 7RD Stealth, 15.6\" FHD IPS, Core i7-7700HQ, 8GB, 256GB SSD, GeForce GTX 1050 2GB, DOS + Windows 10 Home', 'Dell Latitude 5480, 14\" FHD, Core i5-7300U, 8GB, 256GB SSD, Windows 10 Pro', 'Acer Predator Helios 300 (PH317-51), 17.3\" FHD IPS, Core i7-7700HQ. 8GB, 128GB SSD +1TB, GeForce GTX 1050Ti 4GB, Linux + Windows 10 Home', 'MSI GL62M 7REX, 15.6\" FHD, Core i7-7700HQ, 8GB, 1TB + 128GB SSD, GeForce GTX 1050 Ti 2GB, Windows 10 Home', 'MSI GL62M 7REX2, 15.6\" FHD, Core i7-7700HQ, 8GB, 1TB + 128GB SSD, GeForce GTX 1050 Ti 2GB, Windows 10 Home', 'Lenovo Yoga 910 Grey, 13.9\" FHD Touch, Core i5-7200U, 8GB, 256GB SSD, Windows 10 Home', 'Toshiba Portege X30-D-10J Black/Blue, 13.3\" FHD IPS, Core i5-7200U, 8GB, 256GB SSD, Windows 10 Pro', 'Lenovo IdeaPad Miix 510 Platinum Silver, 12.2\" IPS Touch, Core i5-7200U, 8GB, 256GB SSD, 4G, Windows 10 Pro', 'Acer Predator Helios 300 (PH317-51), 17.3\" FHD IPS, Core i7-7700HQ, 8GB, 1TB + 128GB SSD, GeForce GTX 1050 Ti 4GB, Windows 10 Home', '12.5\" Touch, Core i5 4200U, 8GB, 500GB + 16GB SSD Cache, Windows', 'Asus VivoBook Pro 15 N580VN-FI006T Gold Metal, 15.6\" UHD, Core i7-7700HQ, 16GB, 1TB + 256GB SSD, GeForce MX150 2GB, Windows 10 Home, Eng kbd', 'Dell Latitude 5480, 14\" FHD, Core i7-7600U, 8GB, 256GB SSD, Linux', 'Asus ZenBook UX530UX-FY040T Blue, 15.6\" FHD, Core i7-7500U, 8GB, 512GB SSD, GeForce GTX950M 2GB, Windows 10 Home, Eng kbd', '12.5\", Core i5 2.6GHz, 8GB, 180GB SSD, Win7 Pro 64bit', 'Asus ROG Strix GL753VE-GC096T, 17.3\" FHD, Core i7-7700HQ, 8GB, 1TB + 128GB SSD, GeForce GTX 1050 Ti 4GB, Windows 10 Home, Eng kbd', 'Apple MacBook Air 13\", i5 1.8GHz, 8GB, 256GB SSD, Intel HD 6000, ENG', 'Dell Latitude 5480, 14\" FHD, Core i7-7600U, 8GB, 1TB, GeForce GT930MX, Windows 10 Pro', 'Hewlett Packard Spectre 13-v106na Dark Ash Silver, 13.3\" FHD IPS, Core i5-7200U, 8GB, 256GB SSD, Windows 10 Home', '13.3\" Touch, Core i5-4210U, 8GB, 128GB SSD, Windows 8.1', 'Toshiba Portege Z30-C-16K Grey, 13.3\" FHD, Core i5-6200U, 8GB, 256GB SSD, 4G, Windows 10 Pro', 'MSI GL62VR 7RFX, 15.6\" FHD, Core i7-7700HQ, 8GB, 1TB + 256GB SSD, GeForce GTX 1060 3GB, Windows 10 Home', 'Dell Latitude 5480, 14\" FHD, Core i7-7600U, 8GB, 256GB SSD, Windows 10 Pro', '12.5\", Core i5-4300U, 8GB, 240GB SSD, Win7 Pro 64bit', 'Hewlett Packard ProBook 640 G3, 14\" FHD, Core i7-7600U, 8GB, 256GB SSD, Windows 10 Pro', 'Apple MacBook Pro 13\" Space Gray, Core i5 2.3GHz, 8GB, 128GB SSD, Iris Plus 640, ENG', 'Dell Latitude 5580, 15.6\" FHD, Core i7-7600U, 8GB, 256GB SSD, GeForce GT930MX, Windows 10 Pro', 'Dell Latitude 5480, 14\" FHD, Core i7-7600U, 8GB, 256GB SSD, Linux + Windows 10 Home', 'Dell Latitude 5580, 15.6\" FHD, Core i7-7600U, 16GB, 256GB SSD, GeForce GT930MX, Linux', 'Apple MacBook Air 13\", Intel Core i5 1.8GHz, 8GB, 256GB SSD, Intel HD 6000, RUS', 'Lenovo ThinkPad T470, 14\" FHD IPS, Core i5-7200U, 8GB, 256GB SSD, Windows 10 Pro', 'Lenovo ThinkPad Yoga 370 Black, 13.3\" FHD IPS Touch, Core i5-7200U, 8GB, 256GB SSD, 4G, Windows 10 Pro', 'Toshiba Portege X20W-D-10V Black/Blue, 12.5\" FHD Touch, Core i7-7500U, 8GB, 512GB SSD, Windows 10 Pro', 'Asus ASUSPRO B9440UA-GV0279R Gray, 14\" FHD, Core i7-7500U, 16GB, 512GB SSD, Windows 10 Pro, Eng kbd', 'Lenovo Legion Y720, 15.6\" FHD IPS, Core i7-7700HQ, 8GB, 128GB SSD + 2TB HDD, GeForce GTX 1060 6GB, DOS, RGB backlit keyboard', 'Asus ROG Strix GL702VM-GC146T, 17.3\" FHD, Core i7-7700HQ, 8GB, 1TB + 128GB SSD, GeForce GTX 1060 3GB, Windows 10 Home, Eng kbd', 'Asus ROG Strix GL702ZC-GC154T, 17.3\" FHD, Ryzen 7 1700, 16GB, 256GB + 1TB HDD, Radeon RX 580 4GB, Windows 10 Home', 'Asus ROG Strix GL702ZC-GC209T, 17.3\" FHD IPS, Ryzen 7 1700, 16GB, 256GB SSD + 1TB HDD, Radeon RX 580 4GB, Windows 10 Home', 'Asus ROG Strix SCAR Edition GL503VM-ED115T, 15.6\" FHD 120Hz, Core i7-7700HQ, 16GB, 256GB SSD + 1TB SSHD, GeForce GTX 1060 6GB, Windows 10 Home']\n",
            "117\n"
          ]
        }
      ],
      "source": [
        "descricao = soup.find_all('p', attrs={'class':'description'})\n",
        "\n",
        "descricao = [i.text for i in descricao]\n",
        "print(descricao)\n",
        "print(len(descricao))"
      ]
    },
    {
      "cell_type": "code",
      "execution_count": 9,
      "metadata": {
        "colab": {
          "base_uri": "https://localhost:8080/"
        },
        "id": "I4FzTQDwI8JK",
        "outputId": "edb0110e-20ed-418e-d59b-604c8438486c"
      },
      "outputs": [
        {
          "output_type": "stream",
          "name": "stdout",
          "text": [
            "['14 reviews', '8 reviews', '12 reviews', '2 reviews', '5 reviews', '6 reviews', '12 reviews', '2 reviews', '0 reviews', '9 reviews', '10 reviews', '9 reviews', '4 reviews', '3 reviews', '12 reviews', '10 reviews', '9 reviews', '14 reviews', '4 reviews', '2 reviews', '1 reviews', '1 reviews', '2 reviews', '6 reviews', '9 reviews', '2 reviews', '9 reviews', '7 reviews', '1 reviews', '5 reviews', '8 reviews', '6 reviews', '9 reviews', '4 reviews', '14 reviews', '2 reviews', '9 reviews', '5 reviews', '13 reviews', '0 reviews', '10 reviews', '2 reviews', '4 reviews', '9 reviews', '7 reviews', '2 reviews', '8 reviews', '12 reviews', '7 reviews', '0 reviews', '7 reviews', '11 reviews', '13 reviews', '14 reviews', '7 reviews', '1 reviews', '9 reviews', '4 reviews', '8 reviews', '4 reviews', '1 reviews', '0 reviews', '1 reviews', '4 reviews', '10 reviews', '14 reviews', '13 reviews', '7 reviews', '14 reviews', '5 reviews', '2 reviews', '10 reviews', '11 reviews', '11 reviews', '12 reviews', '7 reviews', '0 reviews', '6 reviews', '2 reviews', '2 reviews', '5 reviews', '14 reviews', '7 reviews', '12 reviews', '7 reviews', '13 reviews', '0 reviews', '9 reviews', '2 reviews', '10 reviews', '0 reviews', '14 reviews', '10 reviews', '7 reviews', '8 reviews', '13 reviews', '8 reviews', '4 reviews', '6 reviews', '1 reviews', '8 reviews', '12 reviews', '2 reviews', '0 reviews', '6 reviews', '11 reviews', '3 reviews', '11 reviews', '5 reviews', '12 reviews', '11 reviews', '4 reviews', '8 reviews', '10 reviews', '7 reviews', '8 reviews', '8 reviews']\n",
            "117\n"
          ]
        }
      ],
      "source": [
        "reviews = soup.find_all('p', attrs={'class':'pull-right'})\n",
        "\n",
        "reviews = [i.text for i in reviews]\n",
        "print(reviews)\n",
        "print(len(reviews))"
      ]
    },
    {
      "cell_type": "code",
      "execution_count": 10,
      "metadata": {
        "colab": {
          "base_uri": "https://localhost:8080/"
        },
        "id": "pqDz0ROaKrnd",
        "outputId": "2a87e2bf-66ee-47e0-b1f4-7e2e9be27cb5"
      },
      "outputs": [
        {
          "output_type": "stream",
          "name": "stdout",
          "text": [
            "['$295.99', '$299.00', '$299.00', '$306.99', '$321.94', '$356.49', '$364.46', '$372.70', '$379.94', '$379.95', '$391.48', '$393.88', '$399.00', '$399.99', '$404.23', '$408.98', '$409.63', '$410.46', '$410.66', '$416.99', '$433.30', '$436.29', '$436.29', '$439.73', '$454.62', '$454.73', '$457.38', '$465.95', '$468.56', '$469.10', '$484.23', '$485.90', '$487.80', '$488.64', '$488.78', '$494.71', '$497.17', '$498.23', '$520.99', '$564.98', '$577.99', '$581.99', '$609.99', '$679.00', '$679.00', '$729.00', '$739.99', '$745.99', '$799.00', '$809.00', '$899.00', '$999.00', '$1033.99', '$1096.02', '$1098.42', '$1099.00', '$1099.00', '$1101.83', '$1102.66', '$1110.14', '$1112.91', '$1114.55', '$1123.87', '$1123.87', '$1124.20', '$1133.82', '$1133.91', '$1139.54', '$1140.62', '$1143.40', '$1144.20', '$1144.40', '$1149.00', '$1149.00', '$1149.73', '$1154.04', '$1170.10', '$1178.19', '$1178.99', '$1179.00', '$1187.88', '$1187.98', '$1199.00', '$1199.00', '$1199.73', '$1203.41', '$1212.16', '$1221.58', '$1223.99', '$1235.49', '$1238.37', '$1239.20', '$1244.99', '$1259.00', '$1260.13', '$1271.06', '$1273.11', '$1281.99', '$1294.74', '$1299.00', '$1310.39', '$1311.99', '$1326.83', '$1333.00', '$1337.28', '$1338.37', '$1341.22', '$1347.78', '$1349.23', '$1362.24', '$1366.32', '$1381.13', '$1399.00', '$1399.00', '$1769.00', '$1769.00', '$1799.00']\n",
            "117\n"
          ]
        }
      ],
      "source": [
        "preco = soup.find_all('h4', attrs={'class':'pull-right price'})\n",
        "\n",
        "preco = [i.text for i in preco]\n",
        "print(preco)\n",
        "print(len(preco))"
      ]
    },
    {
      "cell_type": "code",
      "execution_count": 11,
      "metadata": {
        "colab": {
          "base_uri": "https://localhost:8080/"
        },
        "id": "iopV7SFZOBvj",
        "outputId": "adae619e-effc-476d-e101-a129b3e8cc06"
      },
      "outputs": [
        {
          "output_type": "stream",
          "name": "stdout",
          "text": [
            "117\n"
          ]
        }
      ],
      "source": [
        "path = etree.HTML(str(soup))\n",
        "site = path.xpath(\"//div[@class='caption']//h4[2]//a\")\n",
        "\n",
        "sites = [i.get('href') for i in site]\n",
        "print(len(sites))"
      ]
    },
    {
      "cell_type": "code",
      "execution_count": 12,
      "metadata": {
        "colab": {
          "base_uri": "https://localhost:8080/"
        },
        "id": "EQE2oxRSQOmm",
        "outputId": "7f26d0f9-7d5c-4588-fdbc-41d1cbed1fce"
      },
      "outputs": [
        {
          "output_type": "stream",
          "name": "stdout",
          "text": [
            "117\n"
          ]
        }
      ],
      "source": [
        "avaliacoes = etree.HTML(str(soup))\n",
        "avaliacoes = path.xpath(\"//div[@class='ratings']//p[2]\")\n",
        "\n",
        "avaliacoes = [i.get('data-rating') for i in avaliacoes]\n",
        "print(len(avaliacoes))"
      ]
    },
    {
      "cell_type": "code",
      "execution_count": 13,
      "metadata": {
        "id": "K-n3o7_KSzmR"
      },
      "outputs": [],
      "source": [
        "df = pd.DataFrame({\"Título\": titulos, \"Descrição\": descricao, \"Site\": sites, \"Avaliações\": avaliacoes, \"Reviews\": reviews, \"Preço\": preco})\n"
      ]
    },
    {
      "cell_type": "code",
      "source": [
        "df.head()"
      ],
      "metadata": {
        "colab": {
          "base_uri": "https://localhost:8080/",
          "height": 206
        },
        "id": "bWp_qVfvl3WK",
        "outputId": "e6cd3098-cc26-463c-dc6d-0eb380a57b8f"
      },
      "execution_count": 14,
      "outputs": [
        {
          "output_type": "execute_result",
          "data": {
            "text/plain": [
              "                Título                                          Descrição  \\\n",
              "0  Asus VivoBook X4...  Asus VivoBook X441NA-GA190 Chocolate Black, 14...   \n",
              "1  Prestigio SmartB...  Prestigio SmartBook 133S Dark Grey, 13.3\" FHD ...   \n",
              "2  Prestigio SmartB...  Prestigio SmartBook 133S Gold, 13.3\" FHD IPS, ...   \n",
              "3        Aspire E1-510    15.6\", Pentium N3520 2.16GHz, 4GB, 500GB, Linux   \n",
              "4  Lenovo V110-15IA...  Lenovo V110-15IAP, 15.6\" HD, Celeron N3350 1.1...   \n",
              "\n",
              "                                          Site Avaliações     Reviews    Preço  \n",
              "0  /test-sites/e-commerce/allinone/product/545          3  14 reviews  $295.99  \n",
              "1  /test-sites/e-commerce/allinone/product/546          2   8 reviews  $299.00  \n",
              "2  /test-sites/e-commerce/allinone/product/547          4  12 reviews  $299.00  \n",
              "3  /test-sites/e-commerce/allinone/product/517          3   2 reviews  $306.99  \n",
              "4  /test-sites/e-commerce/allinone/product/548          3   5 reviews  $321.94  "
            ],
            "text/html": [
              "\n",
              "  <div id=\"df-473834af-d098-4d0a-87f2-5576d6f2a70b\">\n",
              "    <div class=\"colab-df-container\">\n",
              "      <div>\n",
              "<style scoped>\n",
              "    .dataframe tbody tr th:only-of-type {\n",
              "        vertical-align: middle;\n",
              "    }\n",
              "\n",
              "    .dataframe tbody tr th {\n",
              "        vertical-align: top;\n",
              "    }\n",
              "\n",
              "    .dataframe thead th {\n",
              "        text-align: right;\n",
              "    }\n",
              "</style>\n",
              "<table border=\"1\" class=\"dataframe\">\n",
              "  <thead>\n",
              "    <tr style=\"text-align: right;\">\n",
              "      <th></th>\n",
              "      <th>Título</th>\n",
              "      <th>Descrição</th>\n",
              "      <th>Site</th>\n",
              "      <th>Avaliações</th>\n",
              "      <th>Reviews</th>\n",
              "      <th>Preço</th>\n",
              "    </tr>\n",
              "  </thead>\n",
              "  <tbody>\n",
              "    <tr>\n",
              "      <th>0</th>\n",
              "      <td>Asus VivoBook X4...</td>\n",
              "      <td>Asus VivoBook X441NA-GA190 Chocolate Black, 14...</td>\n",
              "      <td>/test-sites/e-commerce/allinone/product/545</td>\n",
              "      <td>3</td>\n",
              "      <td>14 reviews</td>\n",
              "      <td>$295.99</td>\n",
              "    </tr>\n",
              "    <tr>\n",
              "      <th>1</th>\n",
              "      <td>Prestigio SmartB...</td>\n",
              "      <td>Prestigio SmartBook 133S Dark Grey, 13.3\" FHD ...</td>\n",
              "      <td>/test-sites/e-commerce/allinone/product/546</td>\n",
              "      <td>2</td>\n",
              "      <td>8 reviews</td>\n",
              "      <td>$299.00</td>\n",
              "    </tr>\n",
              "    <tr>\n",
              "      <th>2</th>\n",
              "      <td>Prestigio SmartB...</td>\n",
              "      <td>Prestigio SmartBook 133S Gold, 13.3\" FHD IPS, ...</td>\n",
              "      <td>/test-sites/e-commerce/allinone/product/547</td>\n",
              "      <td>4</td>\n",
              "      <td>12 reviews</td>\n",
              "      <td>$299.00</td>\n",
              "    </tr>\n",
              "    <tr>\n",
              "      <th>3</th>\n",
              "      <td>Aspire E1-510</td>\n",
              "      <td>15.6\", Pentium N3520 2.16GHz, 4GB, 500GB, Linux</td>\n",
              "      <td>/test-sites/e-commerce/allinone/product/517</td>\n",
              "      <td>3</td>\n",
              "      <td>2 reviews</td>\n",
              "      <td>$306.99</td>\n",
              "    </tr>\n",
              "    <tr>\n",
              "      <th>4</th>\n",
              "      <td>Lenovo V110-15IA...</td>\n",
              "      <td>Lenovo V110-15IAP, 15.6\" HD, Celeron N3350 1.1...</td>\n",
              "      <td>/test-sites/e-commerce/allinone/product/548</td>\n",
              "      <td>3</td>\n",
              "      <td>5 reviews</td>\n",
              "      <td>$321.94</td>\n",
              "    </tr>\n",
              "  </tbody>\n",
              "</table>\n",
              "</div>\n",
              "      <button class=\"colab-df-convert\" onclick=\"convertToInteractive('df-473834af-d098-4d0a-87f2-5576d6f2a70b')\"\n",
              "              title=\"Convert this dataframe to an interactive table.\"\n",
              "              style=\"display:none;\">\n",
              "        \n",
              "  <svg xmlns=\"http://www.w3.org/2000/svg\" height=\"24px\"viewBox=\"0 0 24 24\"\n",
              "       width=\"24px\">\n",
              "    <path d=\"M0 0h24v24H0V0z\" fill=\"none\"/>\n",
              "    <path d=\"M18.56 5.44l.94 2.06.94-2.06 2.06-.94-2.06-.94-.94-2.06-.94 2.06-2.06.94zm-11 1L8.5 8.5l.94-2.06 2.06-.94-2.06-.94L8.5 2.5l-.94 2.06-2.06.94zm10 10l.94 2.06.94-2.06 2.06-.94-2.06-.94-.94-2.06-.94 2.06-2.06.94z\"/><path d=\"M17.41 7.96l-1.37-1.37c-.4-.4-.92-.59-1.43-.59-.52 0-1.04.2-1.43.59L10.3 9.45l-7.72 7.72c-.78.78-.78 2.05 0 2.83L4 21.41c.39.39.9.59 1.41.59.51 0 1.02-.2 1.41-.59l7.78-7.78 2.81-2.81c.8-.78.8-2.07 0-2.86zM5.41 20L4 18.59l7.72-7.72 1.47 1.35L5.41 20z\"/>\n",
              "  </svg>\n",
              "      </button>\n",
              "      \n",
              "  <style>\n",
              "    .colab-df-container {\n",
              "      display:flex;\n",
              "      flex-wrap:wrap;\n",
              "      gap: 12px;\n",
              "    }\n",
              "\n",
              "    .colab-df-convert {\n",
              "      background-color: #E8F0FE;\n",
              "      border: none;\n",
              "      border-radius: 50%;\n",
              "      cursor: pointer;\n",
              "      display: none;\n",
              "      fill: #1967D2;\n",
              "      height: 32px;\n",
              "      padding: 0 0 0 0;\n",
              "      width: 32px;\n",
              "    }\n",
              "\n",
              "    .colab-df-convert:hover {\n",
              "      background-color: #E2EBFA;\n",
              "      box-shadow: 0px 1px 2px rgba(60, 64, 67, 0.3), 0px 1px 3px 1px rgba(60, 64, 67, 0.15);\n",
              "      fill: #174EA6;\n",
              "    }\n",
              "\n",
              "    [theme=dark] .colab-df-convert {\n",
              "      background-color: #3B4455;\n",
              "      fill: #D2E3FC;\n",
              "    }\n",
              "\n",
              "    [theme=dark] .colab-df-convert:hover {\n",
              "      background-color: #434B5C;\n",
              "      box-shadow: 0px 1px 3px 1px rgba(0, 0, 0, 0.15);\n",
              "      filter: drop-shadow(0px 1px 2px rgba(0, 0, 0, 0.3));\n",
              "      fill: #FFFFFF;\n",
              "    }\n",
              "  </style>\n",
              "\n",
              "      <script>\n",
              "        const buttonEl =\n",
              "          document.querySelector('#df-473834af-d098-4d0a-87f2-5576d6f2a70b button.colab-df-convert');\n",
              "        buttonEl.style.display =\n",
              "          google.colab.kernel.accessAllowed ? 'block' : 'none';\n",
              "\n",
              "        async function convertToInteractive(key) {\n",
              "          const element = document.querySelector('#df-473834af-d098-4d0a-87f2-5576d6f2a70b');\n",
              "          const dataTable =\n",
              "            await google.colab.kernel.invokeFunction('convertToInteractive',\n",
              "                                                     [key], {});\n",
              "          if (!dataTable) return;\n",
              "\n",
              "          const docLinkHtml = 'Like what you see? Visit the ' +\n",
              "            '<a target=\"_blank\" href=https://colab.research.google.com/notebooks/data_table.ipynb>data table notebook</a>'\n",
              "            + ' to learn more about interactive tables.';\n",
              "          element.innerHTML = '';\n",
              "          dataTable['output_type'] = 'display_data';\n",
              "          await google.colab.output.renderOutput(dataTable, element);\n",
              "          const docLink = document.createElement('div');\n",
              "          docLink.innerHTML = docLinkHtml;\n",
              "          element.appendChild(docLink);\n",
              "        }\n",
              "      </script>\n",
              "    </div>\n",
              "  </div>\n",
              "  "
            ]
          },
          "metadata": {},
          "execution_count": 14
        }
      ]
    }
  ],
  "metadata": {
    "colab": {
      "name": "WebScrapingDesafio 3.ipynb",
      "provenance": []
    },
    "kernelspec": {
      "display_name": "Python 3",
      "name": "python3"
    },
    "language_info": {
      "name": "python"
    }
  },
  "nbformat": 4,
  "nbformat_minor": 0
}